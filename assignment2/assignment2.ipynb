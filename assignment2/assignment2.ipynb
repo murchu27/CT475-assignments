{
 "cells": [
  {
   "cell_type": "markdown",
   "metadata": {},
   "source": [
    "#### First, we import all required packages"
   ]
  },
  {
   "cell_type": "code",
   "execution_count": null,
   "metadata": {},
   "outputs": [],
   "source": [
    "import numpy as np\n",
    "import os\n",
    "import matplotlib.pyplot as plt\n",
    "from sklearn import neighbors, datasets, svm, ensemble\n",
    "from sklearn.model_selection import cross_val_score"
   ]
  },
  {
   "cell_type": "markdown",
   "metadata": {},
   "source": [
    "#### Read in the dataset using *_genfromtxt_*"
   ]
  },
  {
   "cell_type": "code",
   "execution_count": null,
   "metadata": {},
   "outputs": [],
   "source": [
    "#specify file name, change into location of dataset if required\n",
    "fname = 'autoimmune_transpose.txt'\n",
    "\n",
    "#use np.genfromtxt to read in training data, and target feature data\n",
    "autoimmune_data = np.genfromtxt(fname, delimiter='\\t', encoding=None, usecols=np.arange(0,9))\n",
    "autoimmune_target = np.genfromtxt(fname, delimiter='\\t', dtype=None, encoding=None, usecols=9)"
   ]
  },
  {
   "cell_type": "markdown",
   "metadata": {},
   "source": [
    "#### Construct k Nearest Neighbors classifier, carry out 10-fold cross-validation"
   ]
  },
  {
   "cell_type": "code",
   "execution_count": null,
   "metadata": {},
   "outputs": [],
   "source": [
    "#create models with kNN, checking the the 10-fold cross validation scores for various values of k\n",
    "k_scores=[]\n",
    "\n",
    "for i in range(1,20):\n",
    "    kNN = neighbors.KNeighborsClassifier(i)\n",
    "    kNN_scores = cross_val_score(kNN, autoimmune_data, autoimmune_target, cv=10)\n",
    "    k_scores.append(kNN_scores.mean())\n",
    "\n",
    "k_max = max(k_scores)\n",
    "print(\"The highest 10-fold cross validation scores were found for k = \", k_scores.index(k_max)+1, \", which had a mean score of %.4f.\" % k_max, sep='')"
   ]
  },
  {
   "cell_type": "markdown",
   "metadata": {},
   "source": [
    "#### Construct Support Vector Machines classifier, carry out 10-fold cross-validation "
   ]
  },
  {
   "cell_type": "markdown",
   "metadata": {},
   "source": [
    "## SOMETHING'S WRONG WITH SVM: problematic parameter at base.py line 254"
   ]
  },
  {
   "cell_type": "code",
   "execution_count": null,
   "metadata": {},
   "outputs": [],
   "source": [
    "#create models with SVM, checking the the 10-fold cross validation scores when gamma is set to 'scale' or 'auto'\n",
    "s_scores=[]\n",
    "s_options=['scale','auto']\n",
    "\n",
    "for i in s_options:    \n",
    "    svc = svm.SVC(gamma=i)\n",
    "    #svc.fit(X=autoimmune_data, y=autoimmune_target)\n",
    "    print(\"test\")\n",
    "    svc_scores = cross_val_score(estimator=svc, X=autoimmune_data, y=autoimmune_target)\n",
    "    s_scores.append(svc_scores.mean())\n",
    "\n",
    "s_max = max(s_scores)\n",
    "print(\"The highest 10-fold cross validation scores were found when gamma was set to '\", s_options[s_scores.index(s_max)], \"', which had a mean score of %.4f.\" % s_max, sep='')"
   ]
  },
  {
   "cell_type": "markdown",
   "metadata": {},
   "source": [
    "#### Verify which classifier has  a higher cross_val_score "
   ]
  },
  {
   "cell_type": "code",
   "execution_count": null,
   "metadata": {},
   "outputs": [],
   "source": [
    "if k_max >= s_max:\n",
    "    print(\"A higher mean cross validation score was obtained by the kNN algorithm.\")\n",
    "else:\n",
    "    print(\"A higher mean cross validation score was obtained by the SVM algorithm.\")"
   ]
  }
 ],
 "metadata": {
  "kernelspec": {
   "display_name": "Python 3",
   "language": "python",
   "name": "python3"
  },
  "language_info": {
   "codemirror_mode": {
    "name": "ipython",
    "version": 3
   },
   "file_extension": ".py",
   "mimetype": "text/x-python",
   "name": "python",
   "nbconvert_exporter": "python",
   "pygments_lexer": "ipython3",
   "version": "3.6.5"
  }
 },
 "nbformat": 4,
 "nbformat_minor": 2
}
